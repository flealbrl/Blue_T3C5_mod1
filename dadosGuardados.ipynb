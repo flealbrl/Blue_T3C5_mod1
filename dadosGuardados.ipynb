{
  "nbformat": 4,
  "nbformat_minor": 0,
  "metadata": {
    "colab": {
      "name": "dadosGuardados.ipynb",
      "provenance": [],
      "collapsed_sections": [],
      "authorship_tag": "ABX9TyN83zXCTpJlnNa+UWMzp7K+",
      "include_colab_link": true
    },
    "kernelspec": {
      "display_name": "Python 3",
      "name": "python3"
    },
    "language_info": {
      "name": "python"
    }
  },
  "cells": [
    {
      "cell_type": "markdown",
      "metadata": {
        "id": "view-in-github",
        "colab_type": "text"
      },
      "source": [
        "<a href=\"https://colab.research.google.com/github/flealbrl/Blue_T3C5_mod1/blob/main/dadosGuardados.ipynb\" target=\"_parent\"><img src=\"https://colab.research.google.com/assets/colab-badge.svg\" alt=\"Open In Colab\"/></a>"
      ]
    },
    {
      "cell_type": "code",
      "metadata": {
        "colab": {
          "base_uri": "https://localhost:8080/"
        },
        "id": "bJg8jfyHHDb4",
        "outputId": "5d3e3db3-f42d-4859-8f75-e97028186716"
      },
      "source": [
        "dados = []\n",
        "numero_pessoas = 0\n",
        "continuacao = True\n",
        "feminino = 'F'\n",
        "masculino = 'M'\n",
        "dicionario = {}\n",
        "mulheres = []\n",
        "idadesLista = []\n",
        "acimaMédia = []\n",
        "\n",
        "while continuacao == True:\n",
        "    \n",
        "    nome = input('***** Vamos guardar alguns dados. *****\\n Digite o nome de uma pessoa para cadastrá-la.')\n",
        "    idade = int(input(f'Digite a idade de {nome}: '))\n",
        "    gen = input(f'Digite o gênero de {nome}: ').upper()\n",
        "    \n",
        "    while gen != masculino and gen != feminino:\n",
        "            gen = input('Não conseguimos computar um gênero válido. Tente novamente.').upper()\n",
        "    \n",
        "    idadesLista.append(idade)\n",
        "    dicionario = {'Nome': nome, 'Idade': idade, 'Gênero': gen}\n",
        "\n",
        "    if gen == feminino:\n",
        "        mulheres.append(dicionario) \n",
        "\n",
        "    numero_pessoas += 1\n",
        "    dados.append(dicionario)\n",
        "    confirmacao = input('Você deseja cadastrar mais alguma pessoa?\\nUse \"S\" para Sim\\nUse \"N\" para não').upper()\n",
        "    if confirmacao == 'N':\n",
        "        continuacao = False\n",
        "    elif confirmacao == 'S':\n",
        "        pass\n",
        "    else:\n",
        "        while confirmacao != 'N' and confirmacao != 'S':\n",
        "            confirmacao = input('Não conseguimos computar sua resposta. Digite novamente:\\nDeseja cadastrar mais pessoas?\\nUse \"S\" para Sim\\nUse \"N\" para não').upper()\n",
        "    \n",
        "    \n",
        "soma = sum(idadesLista)\n",
        "mediaidade = (soma / numero_pessoas)\n",
        "\n",
        "for i in idadesLista:\n",
        "    if i > mediaidade:\n",
        "        acimaMédia.append(i)\n",
        "    \n",
        "print(dados)\n",
        "print()\n",
        "print(f'O número de pessoas cadatradas foi: {numero_pessoas}')\n",
        "print()\n",
        "print(f'A média de idade das pessoas cadastradas é: {mediaidade:.2f}')\n",
        "print()\n",
        "print(f'Esses são os registros de mulheres que foram cadastradas:\\n{mulheres}')\n",
        "print()\n",
        "print(f'As idades que estão acima da média são:\\n {acimaMédia}')"
      ],
      "execution_count": 27,
      "outputs": [
        {
          "output_type": "stream",
          "text": [
            "Vamos guardar alguns dados.\n",
            "Digite o nome de uma pessoa\n",
            "para cadastrá-la.Fellipe\n",
            "Digite a idade dessa pessoa:20\n",
            "Agora digite o gênero de nascença dessa pessoa. Use \"F\" ou \"M\"N\n",
            "Não conseguimos computar um gênero válido. Tente novamente.M\n",
            "Você deseja cadastrar mais alguma pessoa?\n",
            "Use \"S\" para Sim\n",
            "Use \"N\" para nãoN\n",
            "[{'Nome': 'Fellipe', 'Idade': 20, 'Gênero': 'M'}]\n",
            "\n",
            "O número de pessoas cadatradas foi: 1\n",
            "\n",
            "A média de idade das pessoas cadastradas é: 20.0\n",
            "\n",
            "Esses são os registros de mulheres que foram cadastradas:\n",
            "[]\n",
            "\n",
            "As idades que estão acima da média são:\n",
            " []\n"
          ],
          "name": "stdout"
        }
      ]
    }
  ]
}