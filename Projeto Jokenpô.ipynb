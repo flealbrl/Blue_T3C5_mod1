import random

while True:

  print('\n******* Olá ao jogo de Pedra, Papel e Tesoura. *******\n')
  quantidade_jogadas = int(input("Digite quantas jogadas: ").strip())

  seq = ['Pedra', 'Papel', 'Tesoura']
  total = 0
  c = 0
  h = 0
  e = 0

  for i in range (quantidade_jogadas):
      pc = random.choice(seq)
      jogada = str(input(f"Faça sua jogada:     [ Pedra / Papel / Tesoura ]").strip().capitalize())

      if jogada == 'Pedra' and pc == 'Pedra':
          resultado = 'empate.'
          e += 1
      elif jogada == 'Pedra' and pc == 'Papel':
          resultado = 'o computador ganhou.'
          c += 1
      elif jogada == 'Pedra' and pc == "Tesoura":
          resultado = 'você ganhou !'
          h += 1
      elif jogada == "Papel" and pc == 'Pedra':
          resultado = 'você ganhou !'
          h += 1
      elif jogada == 'Papel' and pc == 'Papel':
          resultado = 'empate.'
          e += 1
      elif jogada == 'Papel' and pc == "Tesoura":
          resultado = 'o computador ganhou.'
          c += 1
      elif jogada == 'Tesoura' and pc == 'Pedra':
          resultado = 'o computador ganhou.'
          c += 1
      elif jogada == 'Tesoura' and pc == 'Papel':
          resultado = 'o computador ganhou.'
          c += 1
      elif jogada == 'Tesoura' and pc == "Tesoura":
          resultado = 'empate.'
          e += 1

      total += 1

      print(f'\nO Resultado foi {resultado}\n')
      
  print(f"\nVocê acertou {h} jogada(s).")
  print(f"O computador acertou {c} jogada(s).")
  print(f"Teve {e} empate(s).\n")

  perg = str(input("Deseja Continuar? ").strip().upper())
  if perg == "NÃO":
    print("\nFim do programa, até a próxima.\n")
    break
  elif perg == "SIM":
    pass  
  else:     
    print("Digitação Incorreta.")
    break
