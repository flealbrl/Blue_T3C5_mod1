{
  "nbformat": 4,
  "nbformat_minor": 0,
  "metadata": {
    "colab": {
      "name": "detetiveCompleto.ipynb",
      "provenance": [],
      "collapsed_sections": [],
      "authorship_tag": "ABX9TyOWCnCE6aQllZwVfX2jmJgN",
      "include_colab_link": true
    },
    "kernelspec": {
      "name": "python3",
      "display_name": "Python 3"
    },
    "language_info": {
      "name": "python"
    }
  },
  "cells": [
    {
      "cell_type": "markdown",
      "metadata": {
        "id": "view-in-github",
        "colab_type": "text"
      },
      "source": [
        "<a href=\"https://colab.research.google.com/github/flealbrl/Blue_T3C5_mod1/blob/main/detetiveCompleto.ipynb\" target=\"_parent\"><img src=\"https://colab.research.google.com/assets/colab-badge.svg\" alt=\"Open In Colab\"/></a>"
      ]
    },
    {
      "cell_type": "code",
      "metadata": {
        "id": "D9egikG_9wNf"
      },
      "source": [
        "## Projeto Detetive.\n",
        "\n",
        "tel = 0\n",
        "loc = 0\n",
        "perto = 0\n",
        "dever = 0\n",
        "trab = 0\n",
        "resultado = 0\n",
        " \n",
        "nome = str(input(\"Digite seu nome: \").strip().capitalize())\n",
        "print(f\"Olá {nome}, sou o Detetive de Polícia, irei fazer algumas perguntas. \")\n",
        "print()\n",
        "\n",
        "perg1 = str(input(f\"{nome}, você telefonou para a vítima?: [Sim / Não] \").strip().replace(\"a\",\"ã\").replace(\"A\",\"ã\").capitalize())\n",
        "if perg1 == \"Sim\":\n",
        "  tel += 1\n",
        "   \n",
        "perg2 = str(input(f\"{nome}, você esteve no local do crime?: [Sim / Não] \").strip().replace(\"a\",\"ã\").replace(\"A\",\"ã\").capitalize())\n",
        "if perg2 == \"Sim\":\n",
        "  loc += 1\n",
        "\n",
        "perg3 = str(input(f\"{nome}, você mora perto da vítima?: [Sim / Não] \").strip().replace(\"a\",\"ã\").replace(\"A\",\"ã\").capitalize())\n",
        "if perg3 == \"Sim\":\n",
        "  perto += 1\n",
        "\n",
        "perg4 = str(input(f\"{nome}, Você devia para a vítima?: [Sim / Não] \").strip().replace(\"a\",\"ã\").replace(\"A\",\"ã\").capitalize())\n",
        "if perg4 == \"Sim\":\n",
        "  dever += 1\n",
        "\n",
        "perg5 = str(input(f\"{nome}, você já trabalhou com a vítima?: [Sim / Não] \").strip().replace(\"a\",\"ã\").replace(\"A\",\"ã\").capitalize())\n",
        "if perg5 == \"Sim\":\n",
        "  trab += 1\n",
        "\n",
        "resultado = tel + loc + perto + dever + trab\n",
        "\n",
        "print()\n",
        "print(f\"Fim das perguntas...\")\n",
        "if resultado == 2 :\n",
        "  print(f\"{nome}, você é Suspeito(a) do Crime.\")\n",
        "  print(\"Estou de olho em você !\")\n",
        "elif resultado == 3 and 4 :\n",
        "  print(f\"{nome}, você é Cumplice do Crime.\")\n",
        "elif resultado == 5 :\n",
        "  print(f\"{nome}, você é o Assasino(a) do Crime e está preso !!!\")\n",
        "else :\n",
        "  print(f\"{nome}, você é inocente.\")\n",
        "\n",
        "\n"
      ],
      "execution_count": null,
      "outputs": []
    }
  ]
}