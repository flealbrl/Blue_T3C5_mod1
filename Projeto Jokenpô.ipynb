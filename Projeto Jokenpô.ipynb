{
  "nbformat": 4,
  "nbformat_minor": 0,
  "metadata": {
    "colab": {
      "name": "Untitled4.ipynb",
      "provenance": [],
      "authorship_tag": "ABX9TyOEIXiWvFiXx4gyPuQ0xEB6",
      "include_colab_link": true
    },
    "kernelspec": {
      "display_name": "Python 3",
      "name": "python3"
    },
    "language_info": {
      "name": "python"
    }
  },
  "cells": [
    {
      "cell_type": "markdown",
      "metadata": {
        "id": "view-in-github",
        "colab_type": "text"
      },
      "source": [
        "<a href=\"https://colab.research.google.com/github/flealbrl/Blue_T3C5_mod1/blob/main/Projeto%20Jokenp%C3%B4.ipynb\" target=\"_parent\"><img src=\"https://colab.research.google.com/assets/colab-badge.svg\" alt=\"Open In Colab\"/></a>"
      ]
    },
    {
      "cell_type": "code",
      "metadata": {
        "colab": {
          "base_uri": "https://localhost:8080/"
        },
        "id": "EiRcu_W8xaqo",
        "outputId": "cd6ea4a6-ef02-4004-8e41-bcfe38d7655b"
      },
      "source": [
        "import random\n",
        "\n",
        "while True:\n",
        "\n",
        "  print('\\n******* Olá ao jogo de Pedra, Papel e Tesoura. *******\\n')\n",
        "  quantidade_jogadas = int(input(\"Digite quantas jogadas: \").strip())\n",
        "\n",
        "  seq = ['Pedra', 'Papel', 'Tesoura']\n",
        "  total = 0\n",
        "  c = 0\n",
        "  h = 0\n",
        "  e = 0\n",
        "\n",
        "  for i in range (quantidade_jogadas):\n",
        "      pc = random.choice(seq)\n",
        "      jogada = str(input(f\"Faça sua jogada:     [ Pedra / Papel / Tesoura ]\").strip().capitalize())\n",
        "\n",
        "      if jogada == 'Pedra' and pc == 'Pedra':\n",
        "          resultado = 'empate.'\n",
        "          e += 1\n",
        "      elif jogada == 'Pedra' and pc == 'Papel':\n",
        "          resultado = 'o computador ganhou.'\n",
        "          c += 1\n",
        "      elif jogada == 'Pedra' and pc == \"Tesoura\":\n",
        "          resultado = 'você ganhou !'\n",
        "          h += 1\n",
        "      elif jogada == \"Papel\" and pc == 'Pedra':\n",
        "          resultado = 'você ganhou !'\n",
        "          h += 1\n",
        "      elif jogada == 'Papel' and pc == 'Papel':\n",
        "          resultado = 'empate.'\n",
        "          e += 1\n",
        "      elif jogada == 'Papel' and pc == \"Tesoura\":\n",
        "          resultado = 'o computador ganhou.'\n",
        "          c += 1\n",
        "      elif jogada == 'Tesoura' and pc == 'Pedra':\n",
        "          resultado = 'o computador ganhou.'\n",
        "          c += 1\n",
        "      elif jogada == 'Tesoura' and pc == 'Papel':\n",
        "          resultado = 'o computador ganhou.'\n",
        "          c += 1\n",
        "      elif jogada == 'Tesoura' and pc == \"Tesoura\":\n",
        "          resultado = 'empate.'\n",
        "          e += 1\n",
        "\n",
        "      total += 1\n",
        "\n",
        "      print(f'\\nO Resultado foi {resultado}\\n')\n",
        "      \n",
        "  print(f\"\\nVocê acertou {h} jogada(s).\")\n",
        "  print(f\"O computador acertou {c} jogada(s).\")\n",
        "  print(f\"Teve {e} empate(s).\\n\")\n",
        "\n",
        "  perg = str(input(\"Deseja Continuar? \").strip().upper())\n",
        "  if perg == \"NÃO\":\n",
        "    print(\"\\nFim do programa, até a próxima.\\n\")\n",
        "    break\n",
        "  elif perg == \"SIM\":\n",
        "    pass  \n",
        "  else:     \n",
        "    print(\"Digitação Incorreta.\")\n",
        "    break"
      ],
      "execution_count": null,
      "outputs": [
        {
          "output_type": "stream",
          "text": [
            "\n",
            "******* Olá ao jogo de Pedra, Papel e Tesoura. *******\n",
            "\n",
            "Digite quantas jogadas: 3\n",
            "Faça sua jogada:     [ Pedra / Papel / Tesoura ]pedra\n",
            "\n",
            "O Resultado foi o computador ganhou.\n",
            "\n",
            "Faça sua jogada:     [ Pedra / Papel / Tesoura ]papel\n",
            "\n",
            "O Resultado foi empate.\n",
            "\n",
            "Faça sua jogada:     [ Pedra / Papel / Tesoura ]tesoura\n",
            "\n",
            "O Resultado foi o computador ganhou.\n",
            "\n",
            "\n",
            "Você acertou 0 jogada(s).\n",
            "O computador acertou 2 jogada(s).\n",
            "Teve 1 empates.\n",
            "\n"
          ],
          "name": "stdout"
        }
      ]
    }
  ]
}