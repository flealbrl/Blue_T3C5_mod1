{
  "nbformat": 4,
  "nbformat_minor": 0,
  "metadata": {
    "colab": {
      "name": "fatiamento string.ipynb",
      "provenance": [],
      "authorship_tag": "ABX9TyNYGZX0wL9RrrYUwbM+e+fZ",
      "include_colab_link": true
    },
    "kernelspec": {
      "name": "python3",
      "display_name": "Python 3"
    },
    "language_info": {
      "name": "python"
    }
  },
  "cells": [
    {
      "cell_type": "markdown",
      "metadata": {
        "id": "view-in-github",
        "colab_type": "text"
      },
      "source": [
        "<a href=\"https://colab.research.google.com/github/flealbrl/Blue_T3C5_mod1/blob/main/fatiamento_string.ipynb\" target=\"_parent\"><img src=\"https://colab.research.google.com/assets/colab-badge.svg\" alt=\"Open In Colab\"/></a>"
      ]
    },
    {
      "cell_type": "code",
      "metadata": {
        "colab": {
          "base_uri": "https://localhost:8080/"
        },
        "id": "RhqecQl6LU9L",
        "outputId": "f2ea4e39-c380-4d29-c592-64610aa25087"
      },
      "source": [
        "string1 = \"Sejam bem vindos(a)\"\n",
        "num1 = \"0123456789\"\n",
        "\n",
        "print(len(string1))\n",
        "print(string1[3])         # Retorna o caracter do indice determinado.\n",
        "print(string1[4:9])       # Retorna do limite inferior até o limite superior -1.\n",
        "print(num1[:6])           # Retorna o do indice 0 até o indice 5 (6 -1). \n",
        "print(num1[6:])           # Retorna o caracter do indice 6 até o final."
      ],
      "execution_count": 8,
      "outputs": [
        {
          "output_type": "stream",
          "text": [
            "19\n",
            "a\n",
            "m bem\n",
            "012345\n"
          ],
          "name": "stdout"
        }
      ]
    }
  ]
}