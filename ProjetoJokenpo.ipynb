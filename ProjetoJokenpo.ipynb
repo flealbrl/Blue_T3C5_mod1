{
  "nbformat": 4,
  "nbformat_minor": 0,
  "metadata": {
    "colab": {
      "name": "ProjetoJokenpo.ipynb",
      "provenance": [],
      "collapsed_sections": [],
      "authorship_tag": "ABX9TyOEIXiWvFiXx4gyPuQ0xEB6",
      "include_colab_link": true
    },
    "kernelspec": {
      "display_name": "Python 3",
      "name": "python3"
    },
    "language_info": {
      "name": "python"
    }
  },
  "cells": [
    {
      "cell_type": "markdown",
      "metadata": {
        "id": "view-in-github",
        "colab_type": "text"
      },
      "source": [
        "<a href=\"https://colab.research.google.com/github/flealbrl/Blue_T3C5_mod1/blob/main/ProjetoJokenpo.ipynb\" target=\"_parent\"><img src=\"https://colab.research.google.com/assets/colab-badge.svg\" alt=\"Open In Colab\"/></a>"
      ]
    },
    {
      "cell_type": "code",
      "metadata": {
        "id": "EiRcu_W8xaqo"
      },
      "source": [
        "import random\n",
        "\n",
        "while True:\n",
        "\n",
        "  print('\\n******* Olá ao jogo de Pedra, Papel e Tesoura. *******\\n')\n",
        "  quantidade_jogadas = int(input(\"Digite quantas jogadas: \").strip())\n",
        "\n",
        "  seq = ['Pedra', 'Papel', 'Tesoura']\n",
        "  total = 0\n",
        "  c = 0\n",
        "  h = 0\n",
        "  e = 0\n",
        "\n",
        "  for i in range (quantidade_jogadas):\n",
        "      pc = random.choice(seq)\n",
        "      jogada = str(input(f\"Faça sua jogada:     [ Pedra / Papel / Tesoura ]\").strip().capitalize())\n",
        "\n",
        "      if jogada == 'Pedra' and pc == 'Pedra':\n",
        "          resultado = 'empate.'\n",
        "          e += 1\n",
        "      elif jogada == 'Pedra' and pc == 'Papel':\n",
        "          resultado = 'o computador ganhou.'\n",
        "          c += 1\n",
        "      elif jogada == 'Pedra' and pc == \"Tesoura\":\n",
        "          resultado = 'você ganhou !'\n",
        "          h += 1\n",
        "      elif jogada == \"Papel\" and pc == 'Pedra':\n",
        "          resultado = 'você ganhou !'\n",
        "          h += 1\n",
        "      elif jogada == 'Papel' and pc == 'Papel':\n",
        "          resultado = 'empate.'\n",
        "          e += 1\n",
        "      elif jogada == 'Papel' and pc == \"Tesoura\":\n",
        "          resultado = 'o computador ganhou.'\n",
        "          c += 1\n",
        "      elif jogada == 'Tesoura' and pc == 'Pedra':\n",
        "          resultado = 'o computador ganhou.'\n",
        "          c += 1\n",
        "      elif jogada == 'Tesoura' and pc == 'Papel':\n",
        "          resultado = 'o computador ganhou.'\n",
        "          c += 1\n",
        "      elif jogada == 'Tesoura' and pc == \"Tesoura\":\n",
        "          resultado = 'empate.'\n",
        "          e += 1\n",
        "\n",
        "      total += 1\n",
        "\n",
        "      print(f'\\nO Resultado foi {resultado}\\n')\n",
        "      \n",
        "  print(f\"\\nVocê acertou {h} jogada(s).\")\n",
        "  print(f\"O computador acertou {c} jogada(s).\")\n",
        "  print(f\"Teve {e} empate(s).\\n\")\n",
        "\n",
        "  perg = str(input(\"Deseja Continuar? \").strip().upper())\n",
        "  if perg == \"NÃO\":\n",
        "    print(\"\\nFim do programa, até a próxima.\\n\")\n",
        "    break\n",
        "  elif perg == \"SIM\":\n",
        "    pass  \n",
        "  else:     \n",
        "    print(\"Digitação Incorreta.\")\n",
        "    break"
      ],
      "execution_count": null,
      "outputs": []
    }
  ]
}